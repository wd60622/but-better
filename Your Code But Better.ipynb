{
 "cells": [
  {
   "cell_type": "markdown",
   "id": "ab640dc1-c7cb-4e91-b869-8b247e475a41",
   "metadata": {},
   "source": [
    "# Your Code But Better\n",
    "\n",
    "Example to how make your code nothing but better"
   ]
  },
  {
   "cell_type": "markdown",
   "id": "64e4af22-5eaf-49d1-ae0d-73462f6e3c93",
   "metadata": {},
   "source": [
    "## 1. Import from `but_better`\n",
    "\n",
    "Use one of the predefined youtube videos or make one with the `but_better` function"
   ]
  },
  {
   "cell_type": "code",
   "execution_count": 1,
   "id": "9111bab3-e714-4621-954e-97f82cd13b52",
   "metadata": {},
   "outputs": [],
   "source": [
    "from but_better import ten_hour_fireplace"
   ]
  },
  {
   "cell_type": "markdown",
   "id": "a58d043c-ec1e-48c6-a3b9-acf0a6e32a42",
   "metadata": {},
   "source": [
    "## 2. Write some code\n",
    "\n",
    "Here there is a slow function that will take 25 seconds to run"
   ]
  },
  {
   "cell_type": "code",
   "execution_count": 2,
   "id": "aae7af93-2df1-486e-8635-bc7ec52b39cd",
   "metadata": {},
   "outputs": [
    {
     "name": "stdout",
     "output_type": "stream",
     "text": [
      "Requirement already satisfied: rich in ./.venv/lib/python3.12/site-packages (13.7.1)\n",
      "Requirement already satisfied: markdown-it-py>=2.2.0 in ./.venv/lib/python3.12/site-packages (from rich) (3.0.0)\n",
      "Requirement already satisfied: pygments<3.0.0,>=2.13.0 in ./.venv/lib/python3.12/site-packages (from rich) (2.17.2)\n",
      "Requirement already satisfied: mdurl~=0.1 in ./.venv/lib/python3.12/site-packages (from markdown-it-py>=2.2.0->rich) (0.1.2)\n"
     ]
    }
   ],
   "source": [
    "!pip install rich"
   ]
  },
  {
   "cell_type": "code",
   "execution_count": 3,
   "id": "84aa3889-3422-4958-826b-4cc1f8300ece",
   "metadata": {},
   "outputs": [],
   "source": [
    "from rich.progress import track\n",
    "\n",
    "import time \n",
    "\n",
    "def slow_function(n: int = 25) -> None: \n",
    "    for _ in track(range(n), description=\"Processing...\"): \n",
    "        time.sleep(1)"
   ]
  },
  {
   "cell_type": "markdown",
   "id": "6abdd937-3ab4-4165-bf7d-d0dbbe5eb6c1",
   "metadata": {},
   "source": [
    "Patiently wait for function to complete"
   ]
  },
  {
   "cell_type": "code",
   "execution_count": 4,
   "id": "57234d6c-c419-489a-9732-44db921ce60d",
   "metadata": {},
   "outputs": [
    {
     "data": {
      "application/vnd.jupyter.widget-view+json": {
       "model_id": "8903741b67fd4004bdd73a266412eecb",
       "version_major": 2,
       "version_minor": 0
      },
      "text/plain": [
       "Output()"
      ]
     },
     "metadata": {},
     "output_type": "display_data"
    },
    {
     "data": {
      "text/html": [
       "<pre style=\"white-space:pre;overflow-x:auto;line-height:normal;font-family:Menlo,'DejaVu Sans Mono',consolas,'Courier New',monospace\"></pre>\n"
      ],
      "text/plain": []
     },
     "metadata": {},
     "output_type": "display_data"
    },
    {
     "data": {
      "text/html": [
       "<pre style=\"white-space:pre;overflow-x:auto;line-height:normal;font-family:Menlo,'DejaVu Sans Mono',consolas,'Courier New',monospace\">\n",
       "</pre>\n"
      ],
      "text/plain": [
       "\n"
      ]
     },
     "metadata": {},
     "output_type": "display_data"
    }
   ],
   "source": [
    "slow_function(25)"
   ]
  },
  {
   "cell_type": "markdown",
   "id": "95f80ae6-a006-4c58-9158-bcedf0b24295",
   "metadata": {},
   "source": [
    "## 3. Wrap code\n",
    "\n",
    "Enhance the wait time of the slow function with a soothing fireplace"
   ]
  },
  {
   "cell_type": "code",
   "execution_count": 5,
   "id": "6121b60b-c045-4aed-8f11-628a8e70bcf6",
   "metadata": {},
   "outputs": [
    {
     "data": {
      "image/jpeg": "[encoded data removed]",
      "text/html": [
       "\n",
       "        <iframe\n",
       "            width=\"400\"\n",
       "            height=\"300\"\n",
       "            src=\"https://www.youtube.com/embed/L_LUpnjgPso?autoplay=1\"\n",
       "            frameborder=\"0\"\n",
       "            allowfullscreen\n",
       "            allow=\"autoplay\"\n",
       "        ></iframe>\n",
       "        "
      ],
      "text/plain": [
       "<IPython.lib.display.YouTubeVideo at 0x7f0fb0caa690>"
      ]
     },
     "metadata": {},
     "output_type": "display_data"
    },
    {
     "data": {
      "application/vnd.jupyter.widget-view+json": {
       "model_id": "e954ea2666e043fe90b3a6a45541209d",
       "version_major": 2,
       "version_minor": 0
      },
      "text/plain": [
       "Output()"
      ]
     },
     "metadata": {},
     "output_type": "display_data"
    },
    {
     "data": {
      "text/html": [
       "<pre style=\"white-space:pre;overflow-x:auto;line-height:normal;font-family:Menlo,'DejaVu Sans Mono',consolas,'Courier New',monospace\"></pre>\n"
      ],
      "text/plain": []
     },
     "metadata": {},
     "output_type": "display_data"
    },
    {
     "data": {
      "text/html": [
       "<pre style=\"white-space:pre;overflow-x:auto;line-height:normal;font-family:Menlo,'DejaVu Sans Mono',consolas,'Courier New',monospace\">\n",
       "</pre>\n"
      ],
      "text/plain": [
       "\n"
      ]
     },
     "metadata": {},
     "output_type": "display_data"
    }
   ],
   "source": [
    "slow_function_but_better = ten_hour_fireplace(slow_function)\n",
    "\n",
    "slow_function_but_better(25)"
   ]
  }
 ],
 "metadata": {
  "kernelspec": {
   "display_name": "Python 3 (ipykernel)",
   "language": "python",
   "name": "python3"
  },
  "language_info": {
   "codemirror_mode": {
    "name": "ipython",
    "version": 3
   },
   "file_extension": ".py",
   "mimetype": "text/x-python",
   "name": "python",
   "nbconvert_exporter": "python",
   "pygments_lexer": "ipython3",
   "version": "3.12.3"
  }
 },
 "nbformat": 4,
 "nbformat_minor": 5
}
